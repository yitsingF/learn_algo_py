{
 "cells": [
  {
   "cell_type": "markdown",
   "metadata": {},
   "source": [
    "### longest substring with most k distinct char\n",
    "* Input: s = \"eceba\", k = 2\n",
    "* Output: 3\n",
    "* Explanation: T is \"ece\" which its length is 3."
   ]
  },
  {
   "cell_type": "code",
   "execution_count": null,
   "metadata": {},
   "outputs": [],
   "source": [
    "from collections import defaultdict\n",
    "def solve(s,k):\n",
    "    if k> len(s):\n",
    "        return s\n",
    "    for i in range(k):\n",
    "        visited[s[i]] = max(visited[s[i]], i)\n",
    "    \n",
    "    "
   ]
  },
  {
   "cell_type": "code",
   "execution_count": null,
   "metadata": {},
   "outputs": [],
   "source": [
    "\n",
    "def sumSubarrayMins(A):\n",
    "    MOD = 10**9 + 7\n",
    "    N = len(A)\n",
    "\n",
    "    # prev has i* - 1 in increasing order of A[i* - 1]\n",
    "    # where i* is the answer to query j\n",
    "    stack = []\n",
    "    prev = [None] * N\n",
    "    for i in range(N):\n",
    "        while stack and A[i] <= A[stack[-1]]:\n",
    "            stack.pop()\n",
    "        # stack[-1] 标志了上一个小于A[current]的 角标\n",
    "        prev[i] = stack[-1] if stack else -1\n",
    "        stack.append(i)\n",
    "\n",
    "    # next has k* + 1 in increasing order of A[k* + 1]\n",
    "    # where k* is the answer to query j\n",
    "    stack = []\n",
    "    next_ = [None] * N\n",
    "    for k in range(N-1, -1, -1):\n",
    "        while stack and A[k] < A[stack[-1]]:\n",
    "            stack.pop()\n",
    "        next_[k] = stack[-1] if stack else N\n",
    "        stack.append(k)\n",
    "\n",
    "    # Use prev/next array to count answer\n",
    "    return sum((i - prev[i]) * (next_[i] - i) * A[i]\n",
    "               for i in range(N)) % MOD"
   ]
  },
  {
   "cell_type": "code",
   "execution_count": null,
   "metadata": {},
   "outputs": [],
   "source": [
    "def spiral_order(matrix):\n",
    "    def circle(left,right,up,down):\n",
    "        tmp_res = []\n",
    "        if not matrix or left > right or up>down:\n",
    "            return tmp_res\n",
    "        if left == right:\n",
    "            # [[#]] will be return as well\n",
    "            return [matrix[i][left] for i in range(up,down+1)]\n",
    "        if up == down:\n",
    "            return matrix[up][left:right+1]\n",
    "        print(\"left{}  right{}  up{}  down{}\".format(left,right,up,down))\n",
    "        # upper bourdary\n",
    "        tmp_res += matrix[up][left:right+1]\n",
    "        tmp_res.pop()\n",
    "        print(tmp_res)\n",
    "        \n",
    "        for i in range(up,down+1):\n",
    "            # right bourdary\n",
    "            tmp_res.append(matrix[i][right])\n",
    "        tmp_res.pop()\n",
    "        print(tmp_res)\n",
    "        \n",
    "        # bottle bourdary\n",
    "        tmp_res += list(reversed(matrix[down][left:right+1]))\n",
    "        tmp_res.pop()\n",
    "        for i in reversed(range(up,down+1)):\n",
    "            tmp_res.append(matrix[i][left])\n",
    "        tmp_res.pop()\n",
    "        print(tmp_res)\n",
    "        return tmp_res\n",
    "    left,right = 0,len(matrix[0])-1\n",
    "    up,down = 0,len(matrix)-1\n",
    "    tmp = circle(left,right,up,down)\n",
    "    res = []\n",
    "    while tmp:\n",
    "        left += 1\n",
    "        right -= 1\n",
    "        up += 1\n",
    "        down -= 1\n",
    "        res += tmp\n",
    "        tmp = circle(left,right,up,down)\n",
    "    return res\n",
    "    \n",
    "            "
   ]
  },
  {
   "cell_type": "code",
   "execution_count": null,
   "metadata": {},
   "outputs": [],
   "source": [
    "a = [[1,2,3,4],[5,6,7,8],[9,10,11,12]]\n",
    "spiral_order(a)"
   ]
  },
  {
   "cell_type": "code",
   "execution_count": 1,
   "metadata": {},
   "outputs": [],
   "source": [
    "def addOne(nums):\n",
    "    for index in reversed(range(len(nums))):\n",
    "        if nums[index] == 9:\n",
    "            nums[index] = 0\n",
    "        else:\n",
    "            nums[index] += 1\n",
    "            return nums\n",
    "    \n",
    "    return [1] + nums\n",
    "            \n",
    "        \n",
    "        "
   ]
  },
  {
   "cell_type": "code",
   "execution_count": 5,
   "metadata": {},
   "outputs": [],
   "source": [
    "# traped water\n",
    "def trapped_water(nums):\n",
    "    if not nums:\n",
    "        return nums\n",
    "    left,right = 0,len(nums)-1\n",
    "    water_sum = 0\n",
    "    while left<right:\n",
    "        if nums[left]<nums[right]:\n",
    "            water_sum += max(0,nums[left] - nums[left+1])\n",
    "            left += 1\n",
    "            nums[left] = max(nums[left-1],nums[left])\n",
    "        else:\n",
    "            water_sum += max(0,nums[right] - nums[right-1])\n",
    "            right -= 1\n",
    "            nums[right] = max(nums[right+1],nums[right])\n",
    "    return water_sum\n"
   ]
  },
  {
   "cell_type": "code",
   "execution_count": 6,
   "metadata": {},
   "outputs": [
    {
     "data": {
      "text/plain": [
       "6"
      ]
     },
     "execution_count": 6,
     "metadata": {},
     "output_type": "execute_result"
    }
   ],
   "source": [
    "trapped_water([0,1,0,2,1,0,1,3,2,1,2,1])"
   ]
  },
  {
   "cell_type": "code",
   "execution_count": 31,
   "metadata": {},
   "outputs": [],
   "source": [
    "def distinct_k_substring(s,k):\n",
    "    if not s or k==0:\n",
    "        return 0\n",
    "    if len(s) <= k:\n",
    "        return len(s)\n",
    "    data = {}\n",
    "    dp = [0]*(len(s)+1)\n",
    "    for i in range(len(s)):\n",
    "        if s[i] not in data.keys():\n",
    "            if len(data) < k:\n",
    "                data[s[i]] = i\n",
    "                dp[i] = dp[i-1]+1\n",
    "            else:\n",
    "                min_index,min_key = sorted(zip(data.values(), data.keys()))[0]\n",
    "                # replace it into new char\n",
    "                del data[min_key]\n",
    "                data[s[i]] = i\n",
    "                # added new \n",
    "                dp[i] = i - min_index\n",
    "        else:\n",
    "            data[s[i]] = i\n",
    "            dp[i] = dp[i-1]+1\n",
    "    \n",
    "    return max(dp)\n",
    "        "
   ]
  },
  {
   "cell_type": "code",
   "execution_count": 33,
   "metadata": {},
   "outputs": [
    {
     "data": {
      "text/plain": [
       "1"
      ]
     },
     "execution_count": 33,
     "metadata": {},
     "output_type": "execute_result"
    }
   ],
   "source": [
    "distinct_k_substring(\"aba\",1)"
   ]
  },
  {
   "cell_type": "code",
   "execution_count": 46,
   "metadata": {},
   "outputs": [],
   "source": [
    "def addBoldTag_s(s,parttern):\n",
    "    parttern = list(reversed(sorted(parttern,key=lambda s:len(s))))\n",
    "    if not s or not parttern:\n",
    "        return s\n",
    "    dim = len(s)\n",
    "    height = [0]*dim\n",
    "    for p in parttern:\n",
    "        for index in range(0,dim-len(p)+1):\n",
    "            if height[index:index+len(p)] == [1]*(index-index+len(p)):\n",
    "                continue\n",
    "            if s[index:index+len(p)] == p:\n",
    "                height[index:index+len(p)] = [1]*(index-index+len(p))\n",
    "    bold_bool = 0\n",
    "    res = []\n",
    "    for i in range(len(s)):\n",
    "        if height[i] != bold_bool:\n",
    "            if bold_bool == 0:\n",
    "                res.append('<b>')\n",
    "            else:\n",
    "                res.append('</b>')\n",
    "            bold_bool = height[i]\n",
    "        res.append(s[i])\n",
    "    if bold_bool == 1:\n",
    "        res.append('</b>')\n",
    "    return ''.join(res)\n",
    "                \n",
    "    "
   ]
  },
  {
   "cell_type": "code",
   "execution_count": 47,
   "metadata": {},
   "outputs": [
    {
     "data": {
      "text/plain": [
       "'<b>aaabbc</b>c'"
      ]
     },
     "execution_count": 47,
     "metadata": {},
     "output_type": "execute_result"
    }
   ],
   "source": [
    "s = \"aaabbcc\"\n",
    "d = [\"aaa\",\"aab\",\"bc\"]\n",
    "addBoldTag(s,d)"
   ]
  },
  {
   "cell_type": "code",
   "execution_count": 38,
   "metadata": {},
   "outputs": [
    {
     "data": {
      "text/plain": [
       "'a,b'"
      ]
     },
     "execution_count": 38,
     "metadata": {},
     "output_type": "execute_result"
    }
   ],
   "source": [
    "','.join(['a','b'])"
   ]
  },
  {
   "cell_type": "markdown",
   "metadata": {},
   "source": [
    "* The API: int read4(char *buf) reads 4 characters at a time from a file.\n",
    "\n",
    "* The return value is the actual number of characters read. For example, it returns 3 if there is only 3 characters left in the file.\n",
    "\n",
    "* By using the read4 API, implement the function int read(char *buf, int n) that reads n characters from the file.\n",
    "\n",
    "#### Example 1:\n",
    "\n",
    "* Input: buf = \"abc\", n = 4\n",
    "* Output: \"abc\"\n",
    "* Explanation: The actual number of characters read is 3, which is \"abc\".\n",
    "#### Example 2:\n",
    "\n",
    "* Input: buf = \"abcde\", n = 5 \n",
    "* Output: \"abcde\""
   ]
  },
  {
   "cell_type": "code",
   "execution_count": 66,
   "metadata": {},
   "outputs": [],
   "source": [
    "def one_edit_distance(a,b):\n",
    "    # make sure len(a) >= len(b)\n",
    "    if len(a) < len(b):\n",
    "        a,b = b,a\n",
    "    if len(a)-len(b) > 1:\n",
    "        return False\n",
    "    if not a and not b:\n",
    "        return False\n",
    "    if len(a) == 1 and len(b) == 0:\n",
    "        return True\n",
    "    \n",
    "    for i in range(len(b)):\n",
    "        if a[i] == b[i]:\n",
    "            continue\n",
    "        else:\n",
    "            if len(a) == len(b):\n",
    "                return a[i+1:] == b[i+1:]\n",
    "            else:\n",
    "                return a[i+1:] == b[i:]\n",
    "    if len(a) == len(b):\n",
    "        return False\n",
    "    return True\n",
    "    "
   ]
  },
  {
   "cell_type": "code",
   "execution_count": 67,
   "metadata": {},
   "outputs": [
    {
     "data": {
      "text/plain": [
       "True"
      ]
     },
     "execution_count": 67,
     "metadata": {},
     "output_type": "execute_result"
    }
   ],
   "source": [
    "one_edit_distance('a','ac')"
   ]
  },
  {
   "cell_type": "code",
   "execution_count": 98,
   "metadata": {},
   "outputs": [],
   "source": [
    "import re\n",
    "def palindrome_string(s):\n",
    "    s = re.sub(\"\\W\",'',s).lower()\n",
    "    if not s:\n",
    "        return False\n",
    "    left,right = 0 ,len(s)-1\n",
    "    while left < right:\n",
    "        # check if they are same char \n",
    "        if s[left] != s[right]:\n",
    "            return False\n",
    "        \n",
    "        # iter\n",
    "        left += 1\n",
    "        right -= 1\n",
    "    return True\n",
    "            "
   ]
  },
  {
   "cell_type": "code",
   "execution_count": 100,
   "metadata": {},
   "outputs": [
    {
     "data": {
      "text/plain": [
       "False"
      ]
     },
     "execution_count": 100,
     "metadata": {},
     "output_type": "execute_result"
    }
   ],
   "source": [
    "# x = \"A man, a plan, a canal: Panama\"\n",
    "# x = \"!!@#$$@  \"\n",
    "x =\"\"\n",
    "palindrome_string(x)"
   ]
  },
  {
   "cell_type": "code",
   "execution_count": 80,
   "metadata": {},
   "outputs": [
    {
     "data": {
      "text/plain": [
       "False"
      ]
     },
     "execution_count": 80,
     "metadata": {},
     "output_type": "execute_result"
    }
   ],
   "source": [
    "x.isalnum()"
   ]
  },
  {
   "cell_type": "code",
   "execution_count": 101,
   "metadata": {},
   "outputs": [
    {
     "data": {
      "text/plain": [
       "'南极打趴当，号外1'"
      ]
     },
     "execution_count": 101,
     "metadata": {},
     "output_type": "execute_result"
    }
   ],
   "source": [
    "re.sub(\"\\d+:\\d+:\\d+,\",'',\"12:12:22,南极打趴当，号外1\")"
   ]
  },
  {
   "cell_type": "code",
   "execution_count": 4,
   "metadata": {},
   "outputs": [
    {
     "data": {
      "text/plain": [
       "3"
      ]
     },
     "execution_count": 4,
     "metadata": {},
     "output_type": "execute_result"
    }
   ],
   "source": [
    "import numpy as np\n",
    "a = np.array([1,2,3,4]).reshape(4,1)\n",
    "np.argmax(a)\n"
   ]
  },
  {
   "cell_type": "markdown",
   "metadata": {},
   "source": [
    "### 2D String and Array"
   ]
  },
  {
   "cell_type": "code",
   "execution_count": 48,
   "metadata": {},
   "outputs": [],
   "source": [
    "\n",
    "def findDiagonalOrder(mat):\n",
    "\n",
    "\n",
    "    m=len(mat) -1 \n",
    "    n=len(mat[0]) -1\n",
    "    xs,ys = 0,0\n",
    "    \n",
    "    step = 1\n",
    "    res = []\n",
    "    for i in range(m+n+1):\n",
    "        x,y = xs,ys \n",
    "        \n",
    "        while x>=0 and x<=m and y >=0 and y<=n:\n",
    "\n",
    "            res.append(mat[x][y])\n",
    "            x -= step\n",
    "            y +=step\n",
    "        \n",
    "        if xs == m and ys == n:\n",
    "            break\n",
    "        if x < 0:\n",
    "            xs = x + 1\n",
    "            ys = y\n",
    "        elif y <0:\n",
    "            xs = x\n",
    "            ys = y + 1        \n",
    "            \n",
    "        elif x > m:\n",
    "            xs = x - 1\n",
    "            ys = y + 2\n",
    "        elif y > n:\n",
    "            xs = x + 2\n",
    "            ys = y - 1\n",
    "        \n",
    "        step = 0-step\n",
    "        \n",
    "    return res"
   ]
  },
  {
   "cell_type": "code",
   "execution_count": 50,
   "metadata": {},
   "outputs": [
    {
     "data": {
      "text/plain": [
       "[1, 2, 3]"
      ]
     },
     "execution_count": 50,
     "metadata": {},
     "output_type": "execute_result"
    }
   ],
   "source": [
    "a = [[1],[2],[3]]\n",
    "findDiagonalOrder([[1,2,3]])"
   ]
  },
  {
   "cell_type": "code",
   "execution_count": 60,
   "metadata": {},
   "outputs": [],
   "source": [
    "def solve(x):\n",
    "    if not x:\n",
    "        return []\n",
    "    res = []\n",
    "    for index in range(x):\n",
    "        # generate row\n",
    "        row = []\n",
    "        for counter in range(index + 1):\n",
    "            row.append(combination(index,counter))\n",
    "        res.append(row)\n",
    "    return res\n",
    "        \n",
    "\n",
    "def combination(n,c):\n",
    "    \n",
    "    if n == 0 or c == 0 or c == n:\n",
    "        return 1\n",
    "    res = 1\n",
    "    for i in range(n-c+1, n+1):\n",
    "        res *= i\n",
    "    for i in range(1,c+1):\n",
    "        res /= i\n",
    "    return int(res)"
   ]
  },
  {
   "cell_type": "code",
   "execution_count": 63,
   "metadata": {},
   "outputs": [
    {
     "data": {
      "text/plain": [
       "[[1],\n",
       " [1, 1],\n",
       " [1, 2, 1],\n",
       " [1, 3, 3, 1],\n",
       " [1, 4, 6, 4, 1],\n",
       " [1, 5, 10, 10, 5, 1],\n",
       " [1, 6, 15, 20, 15, 6, 1],\n",
       " [1, 7, 21, 35, 35, 21, 7, 1],\n",
       " [1, 8, 28, 56, 70, 56, 28, 8, 1],\n",
       " [1, 9, 36, 84, 126, 126, 84, 36, 9, 1],\n",
       " [1, 10, 45, 120, 210, 252, 210, 120, 45, 10, 1],\n",
       " [1, 11, 55, 165, 330, 462, 462, 330, 165, 55, 11, 1],\n",
       " [1, 12, 66, 220, 495, 792, 924, 792, 495, 220, 66, 12, 1],\n",
       " [1, 13, 78, 286, 715, 1287, 1716, 1716, 1287, 715, 286, 78, 13, 1],\n",
       " [1, 14, 91, 364, 1001, 2002, 3003, 3432, 3003, 2002, 1001, 364, 91, 14, 1],\n",
       " [1,\n",
       "  15,\n",
       "  105,\n",
       "  455,\n",
       "  1365,\n",
       "  3003,\n",
       "  5005,\n",
       "  6435,\n",
       "  6435,\n",
       "  5005,\n",
       "  3003,\n",
       "  1365,\n",
       "  455,\n",
       "  105,\n",
       "  15,\n",
       "  1],\n",
       " [1,\n",
       "  16,\n",
       "  120,\n",
       "  560,\n",
       "  1820,\n",
       "  4368,\n",
       "  8008,\n",
       "  11440,\n",
       "  12870,\n",
       "  11440,\n",
       "  8008,\n",
       "  4368,\n",
       "  1820,\n",
       "  560,\n",
       "  120,\n",
       "  16,\n",
       "  1],\n",
       " [1,\n",
       "  17,\n",
       "  136,\n",
       "  680,\n",
       "  2380,\n",
       "  6188,\n",
       "  12376,\n",
       "  19448,\n",
       "  24310,\n",
       "  24310,\n",
       "  19448,\n",
       "  12376,\n",
       "  6188,\n",
       "  2380,\n",
       "  680,\n",
       "  136,\n",
       "  17,\n",
       "  1],\n",
       " [1,\n",
       "  18,\n",
       "  153,\n",
       "  816,\n",
       "  3060,\n",
       "  8568,\n",
       "  18564,\n",
       "  31824,\n",
       "  43758,\n",
       "  48620,\n",
       "  43758,\n",
       "  31824,\n",
       "  18564,\n",
       "  8568,\n",
       "  3060,\n",
       "  816,\n",
       "  153,\n",
       "  18,\n",
       "  1],\n",
       " [1,\n",
       "  19,\n",
       "  171,\n",
       "  969,\n",
       "  3876,\n",
       "  11628,\n",
       "  27132,\n",
       "  50388,\n",
       "  75582,\n",
       "  92378,\n",
       "  92378,\n",
       "  75582,\n",
       "  50388,\n",
       "  27132,\n",
       "  11628,\n",
       "  3876,\n",
       "  969,\n",
       "  171,\n",
       "  19,\n",
       "  1],\n",
       " [1,\n",
       "  20,\n",
       "  190,\n",
       "  1140,\n",
       "  4845,\n",
       "  15504,\n",
       "  38760,\n",
       "  77520,\n",
       "  125970,\n",
       "  167960,\n",
       "  184756,\n",
       "  167960,\n",
       "  125970,\n",
       "  77520,\n",
       "  38760,\n",
       "  15504,\n",
       "  4845,\n",
       "  1140,\n",
       "  190,\n",
       "  20,\n",
       "  1],\n",
       " [1,\n",
       "  21,\n",
       "  210,\n",
       "  1330,\n",
       "  5985,\n",
       "  20349,\n",
       "  54264,\n",
       "  116280,\n",
       "  203490,\n",
       "  293930,\n",
       "  352716,\n",
       "  352716,\n",
       "  293930,\n",
       "  203490,\n",
       "  116280,\n",
       "  54264,\n",
       "  20349,\n",
       "  5985,\n",
       "  1330,\n",
       "  210,\n",
       "  21,\n",
       "  1],\n",
       " [1,\n",
       "  22,\n",
       "  231,\n",
       "  1540,\n",
       "  7315,\n",
       "  26334,\n",
       "  74613,\n",
       "  170544,\n",
       "  319770,\n",
       "  497420,\n",
       "  646646,\n",
       "  705432,\n",
       "  646646,\n",
       "  497420,\n",
       "  319770,\n",
       "  170544,\n",
       "  74613,\n",
       "  26334,\n",
       "  7315,\n",
       "  1540,\n",
       "  231,\n",
       "  22,\n",
       "  1],\n",
       " [1,\n",
       "  23,\n",
       "  253,\n",
       "  1771,\n",
       "  8855,\n",
       "  33649,\n",
       "  100947,\n",
       "  245157,\n",
       "  490314,\n",
       "  817190,\n",
       "  1144066,\n",
       "  1352078,\n",
       "  1352078,\n",
       "  1144066,\n",
       "  817190,\n",
       "  490314,\n",
       "  245157,\n",
       "  100947,\n",
       "  33649,\n",
       "  8855,\n",
       "  1771,\n",
       "  253,\n",
       "  23,\n",
       "  1],\n",
       " [1,\n",
       "  24,\n",
       "  276,\n",
       "  2024,\n",
       "  10626,\n",
       "  42504,\n",
       "  134596,\n",
       "  346104,\n",
       "  735471,\n",
       "  1307504,\n",
       "  1961256,\n",
       "  2496144,\n",
       "  2704156,\n",
       "  2496144,\n",
       "  1961256,\n",
       "  1307504,\n",
       "  735471,\n",
       "  346104,\n",
       "  134596,\n",
       "  42503,\n",
       "  10626,\n",
       "  2024,\n",
       "  275,\n",
       "  23,\n",
       "  1]]"
      ]
     },
     "execution_count": 63,
     "metadata": {},
     "output_type": "execute_result"
    }
   ],
   "source": [
    "solve(25)"
   ]
  },
  {
   "cell_type": "code",
   "execution_count": 65,
   "metadata": {},
   "outputs": [
    {
     "data": {
      "text/plain": [
       "24"
      ]
     },
     "execution_count": 65,
     "metadata": {},
     "output_type": "execute_result"
    }
   ],
   "source": [
    "combination(24,1)"
   ]
  },
  {
   "cell_type": "code",
   "execution_count": null,
   "metadata": {},
   "outputs": [],
   "source": []
  }
 ],
 "metadata": {
  "kernelspec": {
   "display_name": "Python 3",
   "language": "python",
   "name": "python3"
  },
  "language_info": {
   "codemirror_mode": {
    "name": "ipython",
    "version": 3
   },
   "file_extension": ".py",
   "mimetype": "text/x-python",
   "name": "python",
   "nbconvert_exporter": "python",
   "pygments_lexer": "ipython3",
   "version": "3.6.2"
  }
 },
 "nbformat": 4,
 "nbformat_minor": 2
}
