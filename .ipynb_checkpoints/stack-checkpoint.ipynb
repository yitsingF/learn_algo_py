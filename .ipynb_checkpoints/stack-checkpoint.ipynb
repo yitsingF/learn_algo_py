{
 "cells": [
  {
   "cell_type": "code",
   "execution_count": 11,
   "metadata": {},
   "outputs": [],
   "source": [
    "def temperature_daily(t):\n",
    "    dim=len(t)\n",
    "    if dim ==0:\n",
    "        return []\n",
    "    index_stack = [0]\n",
    "    res=[0]*dim\n",
    "    for i in range(1,dim):\n",
    "        while len(index_stack) != 0 and t[i] > t[index_stack[-1]]:\n",
    "            tail = index_stack.pop()\n",
    "            res[tail] = i-tail\n",
    "    \n",
    "        index_stack.append(i)\n",
    "    for i in index_stack:\n",
    "        res[i]=0\n",
    "    return res\n",
    "        \n",
    "        "
   ]
  },
  {
   "cell_type": "code",
   "execution_count": 12,
   "metadata": {},
   "outputs": [
    {
     "data": {
      "text/plain": [
       "[0, 1, 0]"
      ]
     },
     "execution_count": 12,
     "metadata": {},
     "output_type": "execute_result"
    }
   ],
   "source": [
    "temperature_daily([56,12,34])"
   ]
  },
  {
   "cell_type": "code",
   "execution_count": null,
   "metadata": {},
   "outputs": [],
   "source": [
    "# /*\n",
    "#  * Return true if there is a path from cur to target.\n",
    "#  */\n",
    "# boolean DFS(Node cur, Node target, Set<Node> visited) {\n",
    "#     return true if cur is target;\n",
    "#     for (next : each neighbor of cur) {\n",
    "#         if (next is not in visited) {\n",
    "#             add next to visted;\n",
    "#             return true if DFS(next, target, visited) == true;\n",
    "#         }\n",
    "#     }\n",
    "#     return false;\n",
    "# }"
   ]
  },
  {
   "cell_type": "code",
   "execution_count": null,
   "metadata": {},
   "outputs": [],
   "source": [
    "def numIslands(self, grid):\n",
    "    if not grid:\n",
    "        return 0\n",
    "        \n",
    "    count = 0\n",
    "    for i in range(len(grid)):\n",
    "        for j in range(len(grid[0])):\n",
    "            if grid[i][j] == '1':\n",
    "                self.dfs(grid, i, j)\n",
    "                count += 1\n",
    "    return count\n",
    "\n",
    "def dfs(self, grid, i, j):\n",
    "    if i<0 or j<0 or i>=len(grid) or j>=len(grid[0]) or grid[i][j] != '1':\n",
    "        return\n",
    "    grid[i][j] = '#'\n",
    "    self.dfs(grid, i+1, j)\n",
    "    self.dfs(grid, i-1, j)\n",
    "    self.dfs(grid, i, j+1)\n",
    "    self.dfs(grid, i, j-1)"
   ]
  },
  {
   "cell_type": "code",
   "execution_count": 14,
   "metadata": {},
   "outputs": [],
   "source": [
    "# Python program to do inorder traversal without recursion\n",
    " \n",
    "# A binary tree node\n",
    "class Node:\n",
    "     \n",
    "    # Constructor to create a new node\n",
    "    def __init__(self, data):\n",
    "        self.data = data \n",
    "        self.left = None\n",
    "        self.right = None\n",
    " \n",
    "# Iterative function for inorder tree traversal\n",
    "def inOrder(root):\n",
    "     \n",
    "    # Set current to root of binary tree\n",
    "    current = root \n",
    "    res,s = [],[] # initialze stack\n",
    "    done = 0\n",
    "     \n",
    "    while(not done):\n",
    "         \n",
    "        # Reach the left most Node of the current Node\n",
    "        if current is not None:\n",
    "             \n",
    "            # Place pointer to a tree node on the stack \n",
    "            # before traversing the node's left subtree\n",
    "            s.append(current)\n",
    "         \n",
    "            current = current.left \n",
    " \n",
    "         \n",
    "        # BackTrack from the empty subtree and visit the Node\n",
    "        # at the top of the stack; however, if the stack is \n",
    "        # empty you are done\n",
    "        else:\n",
    "            if(len(s) >0 ):\n",
    "                current = s.pop()\n",
    "                print(current.data)\n",
    "         \n",
    "                # We have visited the node and its left \n",
    "                # subtree. Now, it's right subtree's turn\n",
    "                current = current.right \n",
    " \n",
    "            else:\n",
    "                done = 1"
   ]
  },
  {
   "cell_type": "code",
   "execution_count": 23,
   "metadata": {},
   "outputs": [],
   "source": [
    "def find_connection(s):\n",
    "    dim = len(s)\n",
    "    q=[s[0]]\n",
    "    visited={0}\n",
    "    while len(q) >0:\n",
    "        if len(visited) == s:\n",
    "            return True\n",
    "        node = q.pop()\n",
    "        print(node)\n",
    "        for neib in node:\n",
    "            if neib in visited:\n",
    "                continue\n",
    "            q.append(s[neib])\n",
    "            visited.add(neib)\n",
    "    return len(visited) == len(s)\n",
    "        "
   ]
  },
  {
   "cell_type": "code",
   "execution_count": 24,
   "metadata": {},
   "outputs": [
    {
     "name": "stdout",
     "output_type": "stream",
     "text": [
      "[1]\n",
      "[2]\n",
      "[3]\n",
      "[]\n"
     ]
    },
    {
     "data": {
      "text/plain": [
       "True"
      ]
     },
     "execution_count": 24,
     "metadata": {},
     "output_type": "execute_result"
    }
   ],
   "source": [
    "find_connection([[1],[2],[3],[]])"
   ]
  },
  {
   "cell_type": "code",
   "execution_count": null,
   "metadata": {},
   "outputs": [],
   "source": []
  }
 ],
 "metadata": {
  "kernelspec": {
   "display_name": "Python 3",
   "language": "python",
   "name": "python3"
  },
  "language_info": {
   "codemirror_mode": {
    "name": "ipython",
    "version": 3
   },
   "file_extension": ".py",
   "mimetype": "text/x-python",
   "name": "python",
   "nbconvert_exporter": "python",
   "pygments_lexer": "ipython3",
   "version": "3.6.6"
  }
 },
 "nbformat": 4,
 "nbformat_minor": 2
}
