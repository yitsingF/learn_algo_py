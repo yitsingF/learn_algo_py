{
 "cells": [
  {
   "cell_type": "code",
   "execution_count": 4,
   "metadata": {},
   "outputs": [],
   "source": [
    "def binary_search(l,start,end,target):\n",
    "    mid = int((start+end)/2)\n",
    "    if mid == start:\n",
    "        if l[start] == target:\n",
    "            return start\n",
    "        elif l[end] == target:\n",
    "            return end\n",
    "        else:\n",
    "            return -1\n",
    "    if target == l[mid]:\n",
    "        return mid\n",
    "    elif target < l[mid]:\n",
    "        return binary_search(l,start,mid-1,target)\n",
    "    else:\n",
    "        return binary_search(l,mid+1,end,target)"
   ]
  },
  {
   "cell_type": "code",
   "execution_count": 5,
   "metadata": {},
   "outputs": [
    {
     "data": {
      "text/plain": [
       "4"
      ]
     },
     "execution_count": 5,
     "metadata": {},
     "output_type": "execute_result"
    }
   ],
   "source": [
    "binary_search([-1,0,3,5,9,12],0,5,9)"
   ]
  },
  {
   "cell_type": "code",
   "execution_count": 16,
   "metadata": {},
   "outputs": [],
   "source": [
    "def sqrt(n):\n",
    "    left,right=0,n\n",
    "    while left<=right:\n",
    "        mid = int((left+right)/2)\n",
    "        res=mid*mid\n",
    "        if res< n:\n",
    "            if (mid+1)**2 > n:\n",
    "                return mid\n",
    "            else:\n",
    "                left=mid+1\n",
    "        elif res ==n:\n",
    "            return mid\n",
    "        else:\n",
    "            right = mid-1  "
   ]
  },
  {
   "cell_type": "code",
   "execution_count": 17,
   "metadata": {},
   "outputs": [
    {
     "data": {
      "text/plain": [
       "2"
      ]
     },
     "execution_count": 17,
     "metadata": {},
     "output_type": "execute_result"
    }
   ],
   "source": [
    "sqrt(8)"
   ]
  },
  {
   "cell_type": "code",
   "execution_count": 32,
   "metadata": {},
   "outputs": [],
   "source": [
    "def find_min(l):\n",
    "    if len(l) == 0:\n",
    "        return []\n",
    "    left,right=0,len(l)-1\n",
    "    while left<right:\n",
    "        mid = (left+right) // 2\n",
    "        if l[mid] > l[right]:\n",
    "            # 注意缩进条件\n",
    "            left=mid+1\n",
    "        else:\n",
    "            right = mid\n",
    "    return l[left]"
   ]
  },
  {
   "cell_type": "code",
   "execution_count": null,
   "metadata": {},
   "outputs": [],
   "source": [
    "find_min([1,2])"
   ]
  },
  {
   "cell_type": "code",
   "execution_count": 1,
   "metadata": {},
   "outputs": [],
   "source": [
    "def find_max(l):\n",
    "    if len(l) == 0:\n",
    "        return []\n",
    "    left,right=0,len(l)-1\n",
    "    while left<right:\n",
    "        mid = (left+right) // 2\n",
    "        if l[mid] > l[right]:\n",
    "            # 注意缩进条件\n",
    "            left=mid\n",
    "        else:\n",
    "            right = mid-1\n",
    "    return l[left]"
   ]
  },
  {
   "cell_type": "code",
   "execution_count": null,
   "metadata": {},
   "outputs": [],
   "source": [
    "find_max([4,5,6,7,0,1,2,3])"
   ]
  },
  {
   "cell_type": "code",
   "execution_count": null,
   "metadata": {},
   "outputs": [],
   "source": []
  }
 ],
 "metadata": {
  "kernelspec": {
   "display_name": "Python 3",
   "language": "python",
   "name": "python3"
  },
  "language_info": {
   "codemirror_mode": {
    "name": "ipython",
    "version": 3
   },
   "file_extension": ".py",
   "mimetype": "text/x-python",
   "name": "python",
   "nbconvert_exporter": "python",
   "pygments_lexer": "ipython3",
   "version": "3.6.6"
  }
 },
 "nbformat": 4,
 "nbformat_minor": 2
}
