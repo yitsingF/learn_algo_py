{
 "cells": [
  {
   "cell_type": "code",
   "execution_count": 11,
   "metadata": {},
   "outputs": [],
   "source": [
    "def temperature_daily(t):\n",
    "    dim=len(t)\n",
    "    if dim ==0:\n",
    "        return []\n",
    "    index_stack = [0]\n",
    "    res=[0]*dim\n",
    "    for i in range(1,dim):\n",
    "        while len(index_stack) != 0 and t[i] > t[index_stack[-1]]:\n",
    "            tail = index_stack.pop()\n",
    "            res[tail] = i-tail\n",
    "    \n",
    "        index_stack.append(i)\n",
    "    for i in index_stack:\n",
    "        res[i]=0\n",
    "    return res\n",
    "        \n",
    "        "
   ]
  },
  {
   "cell_type": "code",
   "execution_count": 12,
   "metadata": {},
   "outputs": [
    {
     "data": {
      "text/plain": [
       "[0, 1, 0]"
      ]
     },
     "execution_count": 12,
     "metadata": {},
     "output_type": "execute_result"
    }
   ],
   "source": [
    "temperature_daily([56,12,34])"
   ]
  },
  {
   "cell_type": "code",
   "execution_count": null,
   "metadata": {},
   "outputs": [],
   "source": [
    "# /*\n",
    "#  * Return true if there is a path from cur to target.\n",
    "#  */\n",
    "# boolean DFS(Node cur, Node target, Set<Node> visited) {\n",
    "#     return true if cur is target;\n",
    "#     for (next : each neighbor of cur) {\n",
    "#         if (next is not in visited) {\n",
    "#             add next to visted;\n",
    "#             return true if DFS(next, target, visited) == true;\n",
    "#         }\n",
    "#     }\n",
    "#     return false;\n",
    "# }"
   ]
  },
  {
   "cell_type": "code",
   "execution_count": 21,
   "metadata": {},
   "outputs": [],
   "source": [
    "def numIslands(grid):\n",
    "    if not grid:\n",
    "        return 0\n",
    "        \n",
    "    count = 0\n",
    "    for i in range(len(grid)):\n",
    "        for j in range(len(grid[0])):\n",
    "            if grid[i][j] == '1':\n",
    "                dfs(grid, i, j)\n",
    "                count += 1\n",
    "    return count\n",
    "\n",
    "def dfs(grid, i, j):\n",
    "    if i<0 or j<0 or i>=len(grid) or j>=len(grid[0]) or grid[i][j] != '1':\n",
    "        return\n",
    "    grid[i][j] = '#'\n",
    "    dfs(grid, i+1, j)\n",
    "    dfs(grid, i-1, j)\n",
    "    dfs(grid, i, j+1)\n",
    "    dfs(grid, i, j-1)"
   ]
  },
  {
   "cell_type": "code",
   "execution_count": 23,
   "metadata": {},
   "outputs": [],
   "source": [
    "def num_islands(mat):\n",
    "    if not mat:\n",
    "        return 0\n",
    "    m,n = len(mat),len(mat[0])\n",
    "    cnt = 0\n",
    "\n",
    "    for row in range(m):\n",
    "        for col in range(n):\n",
    "            if mat[row][col] == \"1\":\n",
    "                check_connection(mat,row,col)\n",
    "                cnt += 1\n",
    "    return cnt\n",
    "\n",
    "\n",
    "def check_connection(mat,row,col):\n",
    "    m,n = len(mat),len(mat[0])\n",
    "    if row<0 or col <0 or row>m or col>n or mat[row][col] != \"1\":\n",
    "        return \n",
    "    mat[row][col] = \"#\"\n",
    "    check_connection(mat,row+1,col)\n",
    "    check_connection(mat,row-1,col)\n",
    "    check_connection(mat,row,col+1)\n",
    "    check_connection(mat,row,col-1)\n"
   ]
  },
  {
   "cell_type": "code",
   "execution_count": 24,
   "metadata": {},
   "outputs": [
    {
     "data": {
      "text/plain": [
       "1"
      ]
     },
     "execution_count": 24,
     "metadata": {},
     "output_type": "execute_result"
    }
   ],
   "source": [
    "num_islands([[\"1\",\"1\",\"1\",\"1\",\"0\"],[\"1\",\"1\",\"0\",\"1\",\"0\"],[\"1\",\"1\",\"0\",\"0\",\"0\"],[\"0\",\"0\",\"0\",\"0\",\"0\"]])"
   ]
  },
  {
   "cell_type": "code",
   "execution_count": 14,
   "metadata": {},
   "outputs": [],
   "source": [
    "# Python program to do inorder traversal without recursion\n",
    " \n",
    "# A binary tree node\n",
    "class Node:\n",
    "     \n",
    "    # Constructor to create a new node\n",
    "    def __init__(self, data):\n",
    "        self.data = data \n",
    "        self.left = None\n",
    "        self.right = None\n",
    " \n",
    "# Iterative function for inorder tree traversal\n",
    "def inOrder(root):\n",
    "     \n",
    "    # Set current to root of binary tree\n",
    "    current = root \n",
    "    res,s = [],[] # initialze stack\n",
    "    done = 0\n",
    "     \n",
    "    while(not done):\n",
    "         \n",
    "        # Reach the left most Node of the current Node\n",
    "        if current is not None:\n",
    "             \n",
    "            # Place pointer to a tree node on the stack \n",
    "            # before traversing the node's left subtree\n",
    "            s.append(current)\n",
    "         \n",
    "            current = current.left \n",
    " \n",
    "         \n",
    "        # BackTrack from the empty subtree and visit the Node\n",
    "        # at the top of the stack; however, if the stack is \n",
    "        # empty you are done\n",
    "        else:\n",
    "            if(len(s) >0 ):\n",
    "                current = s.pop()\n",
    "                print(current.data)\n",
    "         \n",
    "                # We have visited the node and its left \n",
    "                # subtree. Now, it's right subtree's turn\n",
    "                current = current.right \n",
    " \n",
    "            else:\n",
    "                done = 1"
   ]
  },
  {
   "cell_type": "code",
   "execution_count": 23,
   "metadata": {},
   "outputs": [],
   "source": [
    "def find_connection(s):\n",
    "    dim = len(s)\n",
    "    q=[s[0]]\n",
    "    visited={0}\n",
    "    while len(q) >0:\n",
    "        if len(visited) == s:\n",
    "            return True\n",
    "        node = q.pop()\n",
    "        print(node)\n",
    "        for neib in node:\n",
    "            if neib in visited:\n",
    "                continue\n",
    "            q.append(s[neib])\n",
    "            visited.add(neib)\n",
    "    return len(visited) == len(s)\n",
    "        "
   ]
  },
  {
   "cell_type": "code",
   "execution_count": 24,
   "metadata": {},
   "outputs": [
    {
     "name": "stdout",
     "output_type": "stream",
     "text": [
      "[1]\n",
      "[2]\n",
      "[3]\n",
      "[]\n"
     ]
    },
    {
     "data": {
      "text/plain": [
       "True"
      ]
     },
     "execution_count": 24,
     "metadata": {},
     "output_type": "execute_result"
    }
   ],
   "source": [
    "find_connection([[1],[2],[3],[]])"
   ]
  },
  {
   "cell_type": "code",
   "execution_count": 84,
   "metadata": {},
   "outputs": [],
   "source": [
    "from queue import Queue\n",
    "class LRUCache:\n",
    "\n",
    "    def __init__(self, capacity):\n",
    "        \"\"\"\n",
    "        :type capacity: int\n",
    "        \"\"\"\n",
    "        self.cap = capacity\n",
    "        self.s= []\n",
    "        self.data = dict()\n",
    "        return\n",
    "\n",
    "    def get(self, key):\n",
    "        \"\"\"\n",
    "        :type key: int\n",
    "        :rtype: int\n",
    "        \"\"\"\n",
    "        res = self.data.get(key)\n",
    "        if res is not None:\n",
    "            self._update_time(key)\n",
    "            return res\n",
    "        return -1\n",
    "        \n",
    "\n",
    "    def put(self, key, value):\n",
    "        \"\"\"\n",
    "        :type key: int\n",
    "        :type value: int\n",
    "        :rtype: void\n",
    "        \"\"\"\n",
    "        if self.data.get(key) is not None:\n",
    "            # update kv\n",
    "            self.data[key] = value\n",
    "            # update time\n",
    "            self._update_time(key)\n",
    "            return\n",
    "        \n",
    "        # add new kv pair\n",
    "        if len(self.s) < self.cap:\n",
    "            # not full\n",
    "            self.s.append(key)\n",
    "            self.data[key] = value\n",
    "            return \n",
    "        # full\n",
    "        tbd = self.s[0] # tbd for to be deleted\n",
    "        # del the kv from dict\n",
    "        del self.data[tbd]\n",
    "        # del the index from stack\n",
    "        del self.s[0]\n",
    "        \n",
    "        # fix the capacity\n",
    "        \n",
    "        # then add data\n",
    "        self.put(key,value)\n",
    "        \n",
    "    def _update_time(self,key):\n",
    "        del self.s[self.s.index(key)]\n",
    "        self.s.append(key)"
   ]
  },
  {
   "cell_type": "code",
   "execution_count": 93,
   "metadata": {},
   "outputs": [],
   "source": [
    "def merge_interval(data):\n",
    "    \n",
    "    res = [] # the final result \n",
    "    for i in sort(data,key=lambda x:x.start):\n",
    "        if res and i.start <= res[-1].end:\n",
    "            # overlaped\n",
    "            res.end = max(res[-1].end, i.end)\n",
    "        else:\n",
    "            # move the pointer and store the result\n",
    "            res.append(i)\n",
    "            \n",
    "    return res\n",
    "        \n",
    "def merge(intervals):\n",
    "    out = []\n",
    "    for i in sorted(intervals, key=lambda i: i.start):\n",
    "        if out and i.start <= out[-1].end:\n",
    "            out[-1].end = max(out[-1].end, i.end)\n",
    "        else:\n",
    "            out += i,\n",
    "    return out"
   ]
  },
  {
   "cell_type": "code",
   "execution_count": 94,
   "metadata": {},
   "outputs": [
    {
     "data": {
      "text/plain": [
       "[[1, 6], [8, 10], [15, 18]]"
      ]
     },
     "execution_count": 94,
     "metadata": {},
     "output_type": "execute_result"
    }
   ],
   "source": [
    "merge_interval([[1,3],[2,6],[8,10],[15,18]])"
   ]
  },
  {
   "cell_type": "code",
   "execution_count": null,
   "metadata": {},
   "outputs": [],
   "source": []
  }
 ],
 "metadata": {
  "kernelspec": {
   "display_name": "Python 3",
   "language": "python",
   "name": "python3"
  },
  "language_info": {
   "codemirror_mode": {
    "name": "ipython",
    "version": 3
   },
   "file_extension": ".py",
   "mimetype": "text/x-python",
   "name": "python",
   "nbconvert_exporter": "python",
   "pygments_lexer": "ipython3",
   "version": "3.6.6"
  }
 },
 "nbformat": 4,
 "nbformat_minor": 2
}
