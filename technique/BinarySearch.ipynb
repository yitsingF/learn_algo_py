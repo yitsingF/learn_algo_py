{
 "cells": [
  {
   "cell_type": "code",
   "execution_count": 4,
   "metadata": {},
   "outputs": [],
   "source": [
    "def binary_search(l,start,end,target):\n",
    "    mid = int((start+end)/2)\n",
    "    if mid == start:\n",
    "        if l[start] == target:\n",
    "            return start\n",
    "        elif l[end] == target:\n",
    "            return end\n",
    "        else:\n",
    "            return -1\n",
    "    if target == l[mid]:\n",
    "        return mid\n",
    "    elif target < l[mid]:\n",
    "        return binary_search(l,start,mid-1,target)\n",
    "    else:\n",
    "        return binary_search(l,mid+1,end,target)"
   ]
  },
  {
   "cell_type": "code",
   "execution_count": 5,
   "metadata": {},
   "outputs": [
    {
     "data": {
      "text/plain": [
       "4"
      ]
     },
     "execution_count": 5,
     "metadata": {},
     "output_type": "execute_result"
    }
   ],
   "source": [
    "binary_search([-1,0,3,5,9,12],0,5,9)"
   ]
  },
  {
   "cell_type": "code",
   "execution_count": 16,
   "metadata": {},
   "outputs": [],
   "source": [
    "def sqrt(n):\n",
    "    left,right=0,n\n",
    "    while left<=right:\n",
    "        mid = int((left+right)/2)\n",
    "        res=mid*mid\n",
    "        if res< n:\n",
    "            if (mid+1)**2 > n:\n",
    "                return mid\n",
    "            else:\n",
    "                left=mid+1\n",
    "        elif res ==n:\n",
    "            return mid\n",
    "        else:\n",
    "            right = mid-1  "
   ]
  },
  {
   "cell_type": "code",
   "execution_count": 17,
   "metadata": {},
   "outputs": [
    {
     "data": {
      "text/plain": [
       "2"
      ]
     },
     "execution_count": 17,
     "metadata": {},
     "output_type": "execute_result"
    }
   ],
   "source": [
    "sqrt(8)"
   ]
  },
  {
   "cell_type": "code",
   "execution_count": 49,
   "metadata": {},
   "outputs": [],
   "source": [
    "def find_min(l):\n",
    "    if len(l) == 0:\n",
    "        return []\n",
    "    left,right=0,len(l)-1\n",
    "    while left<right:\n",
    "        mid = (left+right) // 2\n",
    "        if l[mid] > l[left]:\n",
    "            # 注意缩进条件\n",
    "            left=mid+1\n",
    "        else:\n",
    "            right = mid\n",
    "    return l[left]"
   ]
  },
  {
   "cell_type": "code",
   "execution_count": 50,
   "metadata": {},
   "outputs": [
    {
     "data": {
      "text/plain": [
       "1"
      ]
     },
     "execution_count": 50,
     "metadata": {},
     "output_type": "execute_result"
    }
   ],
   "source": [
    "find_min([1,2])"
   ]
  },
  {
   "cell_type": "code",
   "execution_count": 20,
   "metadata": {},
   "outputs": [],
   "source": [
    "def find_max(l):\n",
    "    if len(l) == 0:\n",
    "        return []\n",
    "    left,right=0,len(l)-1\n",
    "    if l[left]<l[right]:\n",
    "        return l[right]\n",
    "    while left<right:\n",
    "        mid = (left+right) // 2\n",
    "        if l[mid] > l[right]:\n",
    "            # 注意缩进条件\n",
    "            left = mid\n",
    "        else:\n",
    "            right=mid-1\n",
    "    return l[right]"
   ]
  },
  {
   "cell_type": "code",
   "execution_count": 23,
   "metadata": {},
   "outputs": [
    {
     "data": {
      "text/plain": [
       "3"
      ]
     },
     "execution_count": 23,
     "metadata": {},
     "output_type": "execute_result"
    }
   ],
   "source": [
    "# 看left = right 产生break时前的条件\n",
    "# =》 看break最后一步决定 mid or mid +/- 1\n",
    "find_max([1,2,3])"
   ]
  },
  {
   "cell_type": "code",
   "execution_count": 43,
   "metadata": {},
   "outputs": [],
   "source": [
    "def find_target(nums,target):\n",
    "    if not nums:\n",
    "        return -1\n",
    "    left,right = 0,len(nums)-1\n",
    "    while left<right:\n",
    "        mid = (right+left)//2\n",
    "        if nums[mid] == target:\n",
    "            return mid\n",
    "        if nums[left] <= target <nums[mid] or target<nums[mid]<=nums[right] or target>nums[right]>=nums[mid]:\n",
    "            right = mid -1 \n",
    "        else:\n",
    "            left = mid + 1\n",
    "    if nums[left] == target:\n",
    "        return left\n",
    "    print(left)\n",
    "    return -1\n",
    "            "
   ]
  },
  {
   "cell_type": "code",
   "execution_count": 44,
   "metadata": {},
   "outputs": [
    {
     "data": {
      "text/plain": [
       "0"
      ]
     },
     "execution_count": 44,
     "metadata": {},
     "output_type": "execute_result"
    }
   ],
   "source": [
    "find_target([3,5,1] , 3)"
   ]
  },
  {
   "cell_type": "code",
   "execution_count": 58,
   "metadata": {},
   "outputs": [],
   "source": [
    "def search_range(l,target):\n",
    "    if not l:\n",
    "        return [-1,-1]\n",
    "    res=[]\n",
    "    left,right=0,len(l)-1\n",
    "    while left+1<right:\n",
    "        mid = (right+left)//2\n",
    "        if target<=l[mid]:\n",
    "            right=mid\n",
    "        else:\n",
    "            left=mid\n",
    "    if l[left] == target:\n",
    "        res.append(left)\n",
    "    else:\n",
    "        if l[right] == target:\n",
    "            res.append(right)\n",
    "        else:\n",
    "            return [-1,-1] \n",
    "    \n",
    "    left,right=0,len(l)-1\n",
    "    while left+1<right:\n",
    "        mid = (right+left)//2\n",
    "        if target<l[mid]:\n",
    "            right=mid\n",
    "        else:\n",
    "            left=mid\n",
    "    if l[right] == target:\n",
    "        res.append(right)\n",
    "    else:\n",
    "        if l[left] == target:\n",
    "            res.append(left)\n",
    "        else:\n",
    "            return [-1,-1] \n",
    "    return res"
   ]
  },
  {
   "cell_type": "code",
   "execution_count": 59,
   "metadata": {},
   "outputs": [
    {
     "data": {
      "text/plain": [
       "[3, 4]"
      ]
     },
     "execution_count": 59,
     "metadata": {},
     "output_type": "execute_result"
    }
   ],
   "source": [
    "search_range([5,7,7,8,8,10],8)"
   ]
  },
  {
   "cell_type": "markdown",
   "metadata": {},
   "source": [
    "![3_templates](./resource/binary_search.png)"
   ]
  },
  {
   "cell_type": "markdown",
   "metadata": {},
   "source": [
    "#### Template #1 (left <= right):\n",
    "\n",
    "* Most basic and elementary form of Binary Search\n",
    "* Search Condition can be determined without comparing to the element's neighbors (or use specific elements around it)\n",
    "* No post-processing required because at each step, you are checking to see if the element has been found. If you reach the end, then you know the element is not found\n",
    " \n",
    "\n",
    "#### Template #2 (left < right):\n",
    "\n",
    "* An advanced way to implement Binary Search.\n",
    "* Search Condition needs to access element's immediate right neighbor\n",
    "* Use element's right neighbor to determine if condition is met and decide whether to go left or right\n",
    "* Gurantees Search Space is at least 2 in size at each step\n",
    "* Post-processing required. Loop/Recursion ends when you have 1 element left. Need to assess if the remaining element meets the condition. which is `left`\n",
    " \n",
    "\n",
    "#### Template #3 (left + 1 < right):\n",
    "\n",
    "* An alternative way to implement Binary Search\n",
    "* Search Condition needs to access element's immediate left and right neighbors\n",
    "* Use element's neighbors to determine if condition is met and decide whether to go left or right\n",
    "* Gurantees Search Space is at least 3 in size at each step\n",
    "* Post-processing required. Loop/Recursion ends when you have 2 elements left. Need to assess if the remaining elements meet the condition. which are `left and right`\n",
    " \n",
    "\n",
    "#### Time and Space Complexity:\n",
    "\n",
    "* Runtime: O(log n) -- Logorithmic Time\n",
    "\n",
    "* Because Binary Search operates by applying a condition to the value in the middle of our search space and thus cutting the search space in half, in the worse case, we will have to make O(log n) comparisons, where n is the number of elements in our collection.\n",
    "\n",
    "#### Why log n?\n",
    "\n",
    "* Binary search is performed by dividing the existing array in half.\n",
    "* So every time you a call the subroutine ( or complete one iteration ) the size reduced to half of the existing part.\n",
    "* First N become N/2, then it become N/4 and go on till it find the element or size become 1.\n",
    "* The maximum no of iterations is log N (base 2).\n",
    " \n",
    "\n",
    "#### Space: O(1) -- Constant Space\n",
    "\n",
    "* Although, Binary Search does require keeping track of 3 indicies, the iterative solution does not typically require any other additional space and can be applied directly on the collection itself, therefore warrants O(1) or constant space."
   ]
  },
  {
   "cell_type": "code",
   "execution_count": null,
   "metadata": {},
   "outputs": [],
   "source": []
  }
 ],
 "metadata": {
  "kernelspec": {
   "display_name": "Python 3",
   "language": "python",
   "name": "python3"
  },
  "language_info": {
   "codemirror_mode": {
    "name": "ipython",
    "version": 3
   },
   "file_extension": ".py",
   "mimetype": "text/x-python",
   "name": "python",
   "nbconvert_exporter": "python",
   "pygments_lexer": "ipython3",
   "version": "3.6.6"
  }
 },
 "nbformat": 4,
 "nbformat_minor": 2
}
