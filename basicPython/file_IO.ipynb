{
 "cells": [
  {
   "cell_type": "markdown",
   "metadata": {},
   "source": [
    "#### 基础文件IO\n",
    "* open() 读写 txt\n",
    "    * 读取操作\n",
    "    * 写入操作\n",
    "* print函数\n",
    "    * print可以输出文件\n",
    "    * print(*args,sep,end)\n",
    "```\n",
    "sep 设置*args 的分隔符号\n",
    "end 为结束符号\n",
    "```"
   ]
  },
  {
   "cell_type": "code",
   "execution_count": null,
   "metadata": {},
   "outputs": [],
   "source": [
    "with open(\"data.txt\",\"r\",encoding=\"utf-8\",errors='ignore') as f:\n",
    "    # 整体读\n",
    "    data = f.read()\n",
    "    \n",
    "    # 逐行读\n",
    "    for line in f:\n",
    "        print(line)\n",
    "    \n",
    "    # 将print输出写入到file中\n",
    "    print(\"this is writing test\", file=f)"
   ]
  }
 ],
 "metadata": {
  "kernelspec": {
   "display_name": "Python 3",
   "language": "python",
   "name": "python3"
  },
  "language_info": {
   "codemirror_mode": {
    "name": "ipython",
    "version": 3
   },
   "file_extension": ".py",
   "mimetype": "text/x-python",
   "name": "python",
   "nbconvert_exporter": "python",
   "pygments_lexer": "ipython3",
   "version": "3.6.2"
  }
 },
 "nbformat": 4,
 "nbformat_minor": 2
}
