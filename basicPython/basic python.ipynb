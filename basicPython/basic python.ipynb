{
 "cells": [
  {
   "cell_type": "markdown",
   "metadata": {},
   "source": [
    "### 基础集合类型\n",
    "* list\n",
    "* set\n",
    "* dict\n",
    "    * orderedDict\n",
    "    * defaultdict\n"
   ]
  },
  {
   "cell_type": "code",
   "execution_count": 12,
   "metadata": {},
   "outputs": [
    {
     "data": {
      "text/plain": [
       "{'AAPL': 612.78, 'IBM': 205.55}"
      ]
     },
     "execution_count": 12,
     "metadata": {},
     "output_type": "execute_result"
    }
   ],
   "source": [
    "# 一个字典生成器的示例\n",
    "prices = {\n",
    "    'ACME': 45.23,\n",
    "    'AAPL': 612.78,\n",
    "    'IBM': 205.55,\n",
    "    'HPQ': 37.20,\n",
    "    'FB': 10.75\n",
    "}\n",
    "# Make a dictionary of all prices over 200\n",
    "{key: value for key, value in prices.items() if value > 200}"
   ]
  },
  {
   "cell_type": "markdown",
   "metadata": {},
   "source": [
    "### 高级类型\n",
    "* queue\n",
    "    * queue\n",
    "    * dequeue\n",
    "    * priorityQueue\n",
    "* headq 优先栈 可以用以实现priorityQueue\n"
   ]
  },
  {
   "cell_type": "code",
   "execution_count": 5,
   "metadata": {},
   "outputs": [],
   "source": [
    "import heapq\n",
    "\n",
    "class PriorityQueue:\n",
    "    def __init__(self):\n",
    "        self._queue = []\n",
    "        self._index = 0\n",
    "\n",
    "    def push(self, item, priority):\n",
    "        heapq.heappush(self._queue, (-priority, self._index, item))\n",
    "        self._index += 1\n",
    "\n",
    "    def pop(self):\n",
    "        return heapq.heappop(self._queue)[-1]"
   ]
  },
  {
   "cell_type": "code",
   "execution_count": 18,
   "metadata": {},
   "outputs": [],
   "source": [
    "import queue as Q\n",
    "def PriorityQueue_tuple():\n",
    "    que = Q.PriorityQueue()\n",
    "    que.put((10,'ten'))\n",
    "    que.put((1,'one'))\n",
    "    que.put((10/2,'five'))\n",
    "    while not que.empty():\n",
    "        print(que.get())"
   ]
  },
  {
   "cell_type": "markdown",
   "metadata": {},
   "source": [
    "#### 常见方法\n",
    "* zip\n",
    "* sorted\n",
    "* filter\n",
    "* slice\n",
    "* enumerate\n"
   ]
  },
  {
   "cell_type": "code",
   "execution_count": 15,
   "metadata": {},
   "outputs": [
    {
     "data": {
      "text/plain": [
       "[(10.75, 'FB'),\n",
       " (37.2, 'HPQ'),\n",
       " (45.23, 'ACME'),\n",
       " (205.55, 'IBM'),\n",
       " (612.78, 'AAPL')]"
      ]
     },
     "execution_count": 15,
     "metadata": {},
     "output_type": "execute_result"
    }
   ],
   "source": [
    "prices = {\n",
    "    'ACME': 45.23,\n",
    "    'AAPL': 612.78,\n",
    "    'IBM': 205.55,\n",
    "    'HPQ': 37.20,\n",
    "    'FB': 10.75\n",
    "}\n",
    "sorted(zip(prices.values(), prices.keys()))"
   ]
  },
  {
   "cell_type": "code",
   "execution_count": 18,
   "metadata": {},
   "outputs": [
    {
     "data": {
      "text/plain": [
       "['FB', 'HPQ', 'ACME', 'IBM', 'AAPL']"
      ]
     },
     "execution_count": 18,
     "metadata": {},
     "output_type": "execute_result"
    }
   ],
   "source": [
    "sorted_key = sorted(prices,key=lambda k:prices[k])\n",
    "sorted_key"
   ]
  },
  {
   "cell_type": "markdown",
   "metadata": {},
   "source": [
    "#### 其他常用包\n",
    "* collections.Counter\n",
    "* from operator import itemgetter\n",
    "* from itertools import groupby"
   ]
  },
  {
   "cell_type": "code",
   "execution_count": 9,
   "metadata": {},
   "outputs": [
    {
     "name": "stdout",
     "output_type": "stream",
     "text": [
      "07/01/2012\n",
      "  {'address': '5412 N CLARK', 'date': '07/01/2012'}\n",
      "  {'address': '4801 N BROADWAY', 'date': '07/01/2012'}\n",
      "07/02/2012\n",
      "  {'address': '5800 E 58TH', 'date': '07/02/2012'}\n",
      "  {'address': '5645 N RAVENSWOOD', 'date': '07/02/2012'}\n",
      "  {'address': '1060 W ADDISON', 'date': '07/02/2012'}\n",
      "07/03/2012\n",
      "  {'address': '2122 N CLARK', 'date': '07/03/2012'}\n",
      "07/04/2012\n",
      "  {'address': '5148 N CLARK', 'date': '07/04/2012'}\n",
      "  {'address': '1039 W GRANVILLE', 'date': '07/04/2012'}\n"
     ]
    }
   ],
   "source": [
    "from operator import itemgetter\n",
    "from itertools import groupby\n",
    "rows = [\n",
    "    {'address': '5412 N CLARK', 'date': '07/01/2012'},\n",
    "    {'address': '5148 N CLARK', 'date': '07/04/2012'},\n",
    "    {'address': '5800 E 58TH', 'date': '07/02/2012'},\n",
    "    {'address': '2122 N CLARK', 'date': '07/03/2012'},\n",
    "    {'address': '5645 N RAVENSWOOD', 'date': '07/02/2012'},\n",
    "    {'address': '1060 W ADDISON', 'date': '07/02/2012'},\n",
    "    {'address': '4801 N BROADWAY', 'date': '07/01/2012'},\n",
    "    {'address': '1039 W GRANVILLE', 'date': '07/04/2012'},\n",
    "]\n",
    "# Sort by the desired field first\n",
    "rows.sort(key=itemgetter('date'))\n",
    "# Iterate in groups\n",
    "for date, items in groupby(rows, key=itemgetter('date')):\n",
    "    print(date)\n",
    "    for i in items:\n",
    "        print(' ', i)"
   ]
  },
  {
   "cell_type": "code",
   "execution_count": 14,
   "metadata": {},
   "outputs": [
    {
     "name": "stdout",
     "output_type": "stream",
     "text": [
      "Subscriber(addr='jonesy@example.com', joined='2012-10-19')\n",
      "jonesy@example.com\n",
      "2012-10-19\n"
     ]
    }
   ],
   "source": [
    "# collections.namedtuple()示例\n",
    "from collections import namedtuple\n",
    "Subscriber = namedtuple('Subscriber', ['addr', 'joined'])\n",
    "sub = Subscriber('jonesy@example.com', '2012-10-19')\n",
    "print(sub)\n",
    "print(sub.addr,end='\\n')\n",
    "print(sub.joined, end='\\n')"
   ]
  },
  {
   "cell_type": "markdown",
   "metadata": {},
   "source": [
    "### 操作字符串\n",
    "* re模块下`re.split` 更加复杂的分割\n",
    "    * `(,|;|\\s)` 与 `(?:,|;|\\s)`的区别\n",
    "* startswith()/endswith() Str内置方法\n",
    "* [正则搜索和匹配](https://python3-cookbook.readthedocs.io/zh_CN/latest/c02/p04_match_and_search_text.html)\n",
    "    * re.match的使用和复用"
   ]
  },
  {
   "cell_type": "code",
   "execution_count": 2,
   "metadata": {},
   "outputs": [
    {
     "data": {
      "text/plain": [
       "'name is 123'"
      ]
     },
     "execution_count": 2,
     "metadata": {},
     "output_type": "execute_result"
    }
   ],
   "source": [
    "# format 输出 包含名称和格式 -> 提高代码的可读性\n",
    "\"name is {val:s}\".format(val = \"123\")"
   ]
  },
  {
   "cell_type": "markdown",
   "metadata": {},
   "source": [
    "### 魔法函数\n",
    "#### 生成器与迭代器"
   ]
  },
  {
   "cell_type": "code",
   "execution_count": 17,
   "metadata": {},
   "outputs": [],
   "source": [
    "# 生成器函数作为参数传入\n",
    "nums = [1,2,3]\n",
    "s = sum(x * x for x in nums)"
   ]
  },
  {
   "cell_type": "markdown",
   "metadata": {},
   "source": [
    "#### 生成器和迭代器\n",
    "* 什么是迭代器和生成器\n",
    "* 如何实现迭代器和生成器\n",
    "* 反向迭代\n",
    "* 暴露生成器状态 -> 将生成器包装到一个类中的 __iter__中，状态量就可以通过类的实例来访问了\n",
    "* 迭代器切片 -> `itertools.islice()`"
   ]
  },
  {
   "cell_type": "code",
   "execution_count": 4,
   "metadata": {},
   "outputs": [
    {
     "data": {
      "text/plain": [
       "(0, 1)"
      ]
     },
     "execution_count": 4,
     "metadata": {},
     "output_type": "execute_result"
    }
   ],
   "source": [
    "# 手动遍历生成器\n",
    "itr = enumerate([1,2,3,4])\n",
    "next(itr)"
   ]
  },
  {
   "cell_type": "code",
   "execution_count": 5,
   "metadata": {},
   "outputs": [
    {
     "name": "stdout",
     "output_type": "stream",
     "text": [
      "Starting to count from 2\n",
      "2\n",
      "1\n",
      "Done!\n"
     ]
    }
   ],
   "source": [
    "# 手写一个生成器\n",
    "def countdown(n):\n",
    "    print('Starting to count from', n)\n",
    "    while n > 0:\n",
    "        yield n\n",
    "        n -= 1\n",
    "    print('Done!')\n",
    "\n",
    "for i in countdown(2):\n",
    "    print(i)"
   ]
  },
  {
   "cell_type": "code",
   "execution_count": 12,
   "metadata": {},
   "outputs": [
    {
     "name": "stdout",
     "output_type": "stream",
     "text": [
      "Starting to count from 6\n",
      "3\n",
      "2\n",
      "1\n",
      "Done!\n"
     ]
    }
   ],
   "source": [
    "# 在语句中增加 continue的筛选条件 跳过开头部分\n",
    "from itertools import dropwhile\n",
    "for i in dropwhile(lambda x: x > 3,countdown(6)):\n",
    "    print(i)"
   ]
  },
  {
   "cell_type": "code",
   "execution_count": 3,
   "metadata": {},
   "outputs": [
    {
     "name": "stdout",
     "output_type": "stream",
     "text": [
      "(1, 'one')\n",
      "(5.0, 'five')\n",
      "(10, 'ten')\n"
     ]
    }
   ],
   "source": [
    "PriorityQueue_tuple()"
   ]
  },
  {
   "cell_type": "code",
   "execution_count": 6,
   "metadata": {},
   "outputs": [],
   "source": [
    "def find_max_substring(nums):\n",
    "    if not nums:\n",
    "        # check valid array\n",
    "        return (-1,-1)\n",
    "    dp,dp_index = 0,0\n",
    "    max_value = 0\n",
    "    max_index = [0,0]\n",
    "    for index,number in enumerate(nums):\n",
    "        # check wether the subproblem is optimal\n",
    "        dp = max(dp + number,0)\n",
    "        if max_value < dp:\n",
    "            max_value = dp\n",
    "            max_index = [dp_index,index]\n",
    "        if dp == 0:\n",
    "            # the index will be reset\n",
    "            dp_index = index + 1\n",
    "        else:\n",
    "            # new number makes the \n",
    "            dp_index = dp_index\n",
    "            # continue\n",
    "            \n",
    "    # if max_index[0] > len(nums)-1:\n",
    "    #     return (-1,-1)\n",
    "\n",
    "    return max_index"
   ]
  },
  {
   "cell_type": "code",
   "execution_count": 8,
   "metadata": {},
   "outputs": [
    {
     "data": {
      "text/plain": [
       "[0, 2]"
      ]
     },
     "execution_count": 8,
     "metadata": {},
     "output_type": "execute_result"
    }
   ],
   "source": [
    "find_max_substring([1,2,3,-3,-4])"
   ]
  },
  {
   "cell_type": "markdown",
   "metadata": {},
   "source": [
    "### 装饰器的使用"
   ]
  },
  {
   "cell_type": "code",
   "execution_count": 2,
   "metadata": {},
   "outputs": [],
   "source": [
    "def do_twice(func):\n",
    "    def wrapper(*args,**kwargs):\n",
    "        func(*args,**kwargs)\n",
    "        x = func(*args,**kwargs)\n",
    "        return x\n",
    "    return wrapper\n",
    "\n",
    "@do_twice\n",
    "def say_hi(name):\n",
    "    print(f\"hello {name}\")\n",
    "    return name"
   ]
  },
  {
   "cell_type": "markdown",
   "metadata": {},
   "source": [
    "#### 输入了函数的句柄，将句柄修改成了一个叫做wrapper的闭包，输出"
   ]
  },
  {
   "cell_type": "code",
   "execution_count": 3,
   "metadata": {},
   "outputs": [
    {
     "name": "stdout",
     "output_type": "stream",
     "text": [
      "hello asd\n",
      "hello asd\n"
     ]
    },
    {
     "data": {
      "text/plain": [
       "'asd'"
      ]
     },
     "execution_count": 3,
     "metadata": {},
     "output_type": "execute_result"
    }
   ],
   "source": [
    "say_hi(\"asd\")"
   ]
  },
  {
   "cell_type": "code",
   "execution_count": 4,
   "metadata": {},
   "outputs": [
    {
     "name": "stdout",
     "output_type": "stream",
     "text": [
      "wrapper\n"
     ]
    }
   ],
   "source": [
    "# 可以看到函数的名称变了，经过装饰器的修饰，实际返回的是函数的闭包\n",
    "print(say_hi.__name__)"
   ]
  },
  {
   "cell_type": "code",
   "execution_count": 5,
   "metadata": {},
   "outputs": [],
   "source": [
    "import functools\n",
    "\n",
    "def do_twice(func):\n",
    "    @functools.wraps(func)\n",
    "    def wrapper(*args,**kwargs):\n",
    "        func(*args,**kwargs)\n",
    "        x = func(*args,**kwargs)\n",
    "        return x\n",
    "    return wrapper\n",
    "\n",
    "@do_twice\n",
    "def say_hi(name):\n",
    "    print(f\"hello {name}\")\n",
    "    return name"
   ]
  },
  {
   "cell_type": "code",
   "execution_count": 6,
   "metadata": {},
   "outputs": [
    {
     "name": "stdout",
     "output_type": "stream",
     "text": [
      "say_hi\n"
     ]
    }
   ],
   "source": [
    "# 增加functools.wraps ， 保留原函数，使得返回不再是闭包\n",
    "print(say_hi.__name__)"
   ]
  },
  {
   "cell_type": "code",
   "execution_count": 5,
   "metadata": {},
   "outputs": [
    {
     "data": {
      "text/plain": [
       "5"
      ]
     },
     "execution_count": 5,
     "metadata": {},
     "output_type": "execute_result"
    }
   ],
   "source": [
    "find_valid_combo(\"DID\")"
   ]
  },
  {
   "cell_type": "markdown",
   "metadata": {},
   "source": [
    "### 数字和日期\n",
    "* 浮点数：舍入，精度和格式化\n",
    "* 负数运算\n",
    "* 数据溢出，大整数，无穷大\n",
    "* 随机选择\n",
    "#### 日期\n",
    "* 日期转换\n",
    "* 格式化输出"
   ]
  },
  {
   "cell_type": "code",
   "execution_count": 13,
   "metadata": {},
   "outputs": [
    {
     "name": "stdout",
     "output_type": "stream",
     "text": [
      "小数点后一位舍入  1.2\n",
      "舍入百位 1627700\n",
      "input = 1.2345 => 区别舍入 1.234 和格式化 1.234 \n",
      "x = 1.2345 y = 1.2345\n"
     ]
    }
   ],
   "source": [
    "# round 函数进行四舍五入 \n",
    "# round(value, ndigits)\n",
    "print(\"小数点后一位舍入  {}\".format(round(1.23,1)))\n",
    "\n",
    "# ndigits -1，-2，-3表示对10位，百位，千位的舍入\n",
    "print(\"舍入百位 %r\" % round(1627730,-2))\n",
    "\n",
    "x=1.2345\n",
    "y=1.2345\n",
    "print(\"input = {} => 区别舍入 {} 和格式化 {} \".format(x, round(x,3), format(y,'0.3f')))\n",
    "print(\"x = {} y = {}\".format(x,y))"
   ]
  },
  {
   "cell_type": "markdown",
   "metadata": {},
   "source": [
    "* 高精度浮点数\n",
    "* 格式化数字输出"
   ]
  },
  {
   "cell_type": "code",
   "execution_count": 16,
   "metadata": {},
   "outputs": [],
   "source": [
    "def find_sum_subarray(A):\n",
    "    dim = len(A)\n",
    "    # dp[i][j] for subarray start from i and end at i+j\n",
    "    dp,res = [],0\n",
    "    for i in A:\n",
    "        res += i\n",
    "        dp.append([i])\n",
    "    for index,val in enumerate(A):\n",
    "        for j in range(1,dim - index):\n",
    "            dp[index].append(min(dp[index][-1],A[index+j]))\n",
    "            res += dp[index][j]\n",
    "    return res"
   ]
  },
  {
   "cell_type": "code",
   "execution_count": 70,
   "metadata": {},
   "outputs": [],
   "source": []
  },
  {
   "cell_type": "code",
   "execution_count": 71,
   "metadata": {},
   "outputs": [
    {
     "name": "stdout",
     "output_type": "stream",
     "text": [
      "left0  right3  up0  down2\n",
      "[1, 2, 3]\n",
      "[1, 2, 3, 4, 8]\n",
      "[1, 2, 3, 4, 8, 12, 11, 10, 9, 5]\n"
     ]
    },
    {
     "data": {
      "text/plain": [
       "[1, 2, 3, 4, 8, 12, 11, 10, 9, 5, 6, 7]"
      ]
     },
     "execution_count": 71,
     "metadata": {},
     "output_type": "execute_result"
    }
   ],
   "source": []
  },
  {
   "cell_type": "code",
   "execution_count": 67,
   "metadata": {},
   "outputs": [
    {
     "ename": "SyntaxError",
     "evalue": "invalid syntax (<ipython-input-67-3bb7a18c9b38>, line 1)",
     "output_type": "error",
     "traceback": [
      "\u001b[0;36m  File \u001b[0;32m\"<ipython-input-67-3bb7a18c9b38>\"\u001b[0;36m, line \u001b[0;32m1\u001b[0m\n\u001b[0;31m    a[0][3:0::-1]\u001b[0m\n\u001b[0m             ^\u001b[0m\n\u001b[0;31mSyntaxError\u001b[0m\u001b[0;31m:\u001b[0m invalid syntax\n"
     ]
    }
   ],
   "source": [
    "a[0][3:0::-1]"
   ]
  },
  {
   "cell_type": "markdown",
   "metadata": {},
   "source": [
    "### numpy 技巧\n",
    "#### array 操作技巧\n",
    "* 最大最小的值和角标\n",
    "* sorting!"
   ]
  },
  {
   "cell_type": "code",
   "execution_count": null,
   "metadata": {},
   "outputs": [],
   "source": [
    "# min,max,rmin,rmax, argsort"
   ]
  },
  {
   "cell_type": "code",
   "execution_count": null,
   "metadata": {},
   "outputs": [],
   "source": [
    "# reshape "
   ]
  },
  {
   "cell_type": "markdown",
   "metadata": {},
   "source": [
    "### 矩阵变换\n",
    "#### 创建\n",
    "* 单元阵\n",
    "* 对角阵\n",
    "* 零阵\n",
    "#### reshape\n",
    "* reshape(3,4)\n",
    "* reshape 中的-1 是对未知参数的补全"
   ]
  },
  {
   "cell_type": "code",
   "execution_count": null,
   "metadata": {},
   "outputs": [],
   "source": []
  }
 ],
 "metadata": {
  "kernelspec": {
   "display_name": "Python 3",
   "language": "python",
   "name": "python3"
  },
  "language_info": {
   "codemirror_mode": {
    "name": "ipython",
    "version": 3
   },
   "file_extension": ".py",
   "mimetype": "text/x-python",
   "name": "python",
   "nbconvert_exporter": "python",
   "pygments_lexer": "ipython3",
   "version": "3.6.2"
  }
 },
 "nbformat": 4,
 "nbformat_minor": 2
}
