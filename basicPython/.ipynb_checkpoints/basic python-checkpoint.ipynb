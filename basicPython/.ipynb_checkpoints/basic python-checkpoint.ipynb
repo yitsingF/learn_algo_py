{
 "cells": [
  {
   "cell_type": "markdown",
   "metadata": {},
   "source": [
    "### 基础集合类型\n",
    "* list\n",
    "* set\n",
    "* dict\n",
    "    * orderedDict\n",
    "    * defaultdict\n",
    "#### 高级类型\n",
    "* queue\n",
    "    * queue\n",
    "    * priori\n",
    "* headq 优点栈\n"
   ]
  },
  {
   "cell_type": "code",
   "execution_count": null,
   "metadata": {},
   "outputs": [],
   "source": []
  },
  {
   "cell_type": "code",
   "execution_count": 6,
   "metadata": {},
   "outputs": [
    {
     "name": "stdout",
     "output_type": "stream",
     "text": [
      "haha\n"
     ]
    }
   ],
   "source": [
    "if not set(\"asd\") - set(\"sad\") and 3 == 3:\n",
    "    print(\"haha\")"
   ]
  },
  {
   "cell_type": "code",
   "execution_count": 7,
   "metadata": {},
   "outputs": [
    {
     "name": "stdout",
     "output_type": "stream",
     "text": [
      "index 0 , value 1\n",
      "index 1 , value 3\n",
      "index 2 , value 3\n",
      "index 3 , value 4\n"
     ]
    }
   ],
   "source": [
    "a = [1,3,3,4]\n",
    "for i,v in enumerate(a):\n",
    "    print(\"index %r , value %r\" % (i,v))"
   ]
  },
  {
   "cell_type": "code",
   "execution_count": 8,
   "metadata": {},
   "outputs": [],
   "source": [
    "a = set(\"asd\")"
   ]
  },
  {
   "cell_type": "code",
   "execution_count": 2,
   "metadata": {},
   "outputs": [],
   "source": [
    "import queue as Q\n",
    "def PriorityQueue_tuple():\n",
    "    que = Q.PriorityQueue()\n",
    "    que.put((10,'ten'))\n",
    "    que.put((1,'one'))\n",
    "    que.put((10/2,'five'))\n",
    "    while not que.empty():\n",
    "        print(que.get())"
   ]
  },
  {
   "cell_type": "code",
   "execution_count": 3,
   "metadata": {},
   "outputs": [
    {
     "name": "stdout",
     "output_type": "stream",
     "text": [
      "(1, 'one')\n",
      "(5.0, 'five')\n",
      "(10, 'ten')\n"
     ]
    }
   ],
   "source": [
    "PriorityQueue_tuple()"
   ]
  },
  {
   "cell_type": "code",
   "execution_count": 6,
   "metadata": {},
   "outputs": [],
   "source": [
    "def find_max_substring(nums):\n",
    "    if not nums:\n",
    "        # check valid array\n",
    "        return (-1,-1)\n",
    "    dp,dp_index = 0,0\n",
    "    max_value = 0\n",
    "    max_index = [0,0]\n",
    "    for index,number in enumerate(nums):\n",
    "        # check wether the subproblem is optimal\n",
    "        dp = max(dp + number,0)\n",
    "        if max_value < dp:\n",
    "            max_value = dp\n",
    "            max_index = [dp_index,index]\n",
    "        if dp == 0:\n",
    "            # the index will be reset\n",
    "            dp_index = index + 1\n",
    "        else:\n",
    "            # new number makes the \n",
    "            dp_index = dp_index\n",
    "            # continue\n",
    "            \n",
    "    # if max_index[0] > len(nums)-1:\n",
    "    #     return (-1,-1)\n",
    "\n",
    "    return max_index"
   ]
  },
  {
   "cell_type": "code",
   "execution_count": 8,
   "metadata": {},
   "outputs": [
    {
     "data": {
      "text/plain": [
       "[0, 2]"
      ]
     },
     "execution_count": 8,
     "metadata": {},
     "output_type": "execute_result"
    }
   ],
   "source": [
    "find_max_substring([1,2,3,-3,-4])"
   ]
  },
  {
   "cell_type": "markdown",
   "metadata": {},
   "source": [
    "### 装饰器的使用"
   ]
  },
  {
   "cell_type": "code",
   "execution_count": 2,
   "metadata": {},
   "outputs": [],
   "source": [
    "def do_twice(func):\n",
    "    def wrapper(*args,**kwargs):\n",
    "        func(*args,**kwargs)\n",
    "        x = func(*args,**kwargs)\n",
    "        return x\n",
    "    return wrapper\n",
    "\n",
    "@do_twice\n",
    "def say_hi(name):\n",
    "    print(f\"hello {name}\")\n",
    "    return name"
   ]
  },
  {
   "cell_type": "markdown",
   "metadata": {},
   "source": [
    "#### 输入了函数的句柄，将句柄修改成了一个叫做wrapper的闭包，输出"
   ]
  },
  {
   "cell_type": "code",
   "execution_count": 3,
   "metadata": {},
   "outputs": [
    {
     "name": "stdout",
     "output_type": "stream",
     "text": [
      "hello asd\n",
      "hello asd\n"
     ]
    },
    {
     "data": {
      "text/plain": [
       "'asd'"
      ]
     },
     "execution_count": 3,
     "metadata": {},
     "output_type": "execute_result"
    }
   ],
   "source": [
    "say_hi(\"asd\")"
   ]
  },
  {
   "cell_type": "code",
   "execution_count": 4,
   "metadata": {},
   "outputs": [
    {
     "name": "stdout",
     "output_type": "stream",
     "text": [
      "wrapper\n"
     ]
    }
   ],
   "source": [
    "# 可以看到函数的名称变了，经过装饰器的修饰，实际返回的是函数的闭包\n",
    "print(say_hi.__name__)"
   ]
  },
  {
   "cell_type": "code",
   "execution_count": 5,
   "metadata": {},
   "outputs": [],
   "source": [
    "import functools\n",
    "\n",
    "def do_twice(func):\n",
    "    @functools.wraps(func)\n",
    "    def wrapper(*args,**kwargs):\n",
    "        func(*args,**kwargs)\n",
    "        x = func(*args,**kwargs)\n",
    "        return x\n",
    "    return wrapper\n",
    "\n",
    "@do_twice\n",
    "def say_hi(name):\n",
    "    print(f\"hello {name}\")\n",
    "    return name"
   ]
  },
  {
   "cell_type": "code",
   "execution_count": 6,
   "metadata": {},
   "outputs": [
    {
     "name": "stdout",
     "output_type": "stream",
     "text": [
      "say_hi\n"
     ]
    }
   ],
   "source": [
    "# 增加functools.wraps ， 保留原函数，使得返回不再是闭包\n",
    "print(say_hi.__name__)"
   ]
  },
  {
   "cell_type": "code",
   "execution_count": null,
   "metadata": {},
   "outputs": [],
   "source": [
    "def find_valid_combo(s):\n",
    "    if not s:\n",
    "        return 0\n",
    "    if len(s) == 1 :\n",
    "        return 1\n",
    "    if 'D' not in s:\n",
    "        # all I and len(s) > 1\n",
    "        return 1 \n",
    "    if 'I' not in s:\n",
    "        # all D and len(s) > 1\n",
    "        return 1\n",
    "    count = 0\n",
    "    for index,char in enumerate(s):\n",
    "        if index == 0:\n",
    "            if char == 'D':\n",
    "                count += find_valid_combo(s[1:])\n",
    "        elif index == len(s) -1 and char == 'I':\n",
    "            count += find_valid_combo(s[0:-1])\n",
    "        elif s[index] == 'D' and s[index-1] =='I':\n",
    "            count += \n",
    "            \n",
    "            "
   ]
  },
  {
   "cell_type": "code",
   "execution_count": 12,
   "metadata": {},
   "outputs": [
    {
     "data": {
      "text/plain": [
       "'DID'"
      ]
     },
     "execution_count": 12,
     "metadata": {},
     "output_type": "execute_result"
    }
   ],
   "source": [
    "\"DDID\"[1:4]"
   ]
  },
  {
   "cell_type": "code",
   "execution_count": null,
   "metadata": {},
   "outputs": [],
   "source": []
  }
 ],
 "metadata": {
  "kernelspec": {
   "display_name": "Python 3",
   "language": "python",
   "name": "python3"
  },
  "language_info": {
   "codemirror_mode": {
    "name": "ipython",
    "version": 3
   },
   "file_extension": ".py",
   "mimetype": "text/x-python",
   "name": "python",
   "nbconvert_exporter": "python",
   "pygments_lexer": "ipython3",
   "version": "3.6.6"
  }
 },
 "nbformat": 4,
 "nbformat_minor": 2
}
